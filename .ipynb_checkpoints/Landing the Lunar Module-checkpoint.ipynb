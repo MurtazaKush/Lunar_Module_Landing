{
 "cells": [
  {
   "cell_type": "markdown",
   "id": "57d08477-b675-4e6b-8208-48c2bbfe9102",
   "metadata": {},
   "source": [
    "## 1 - Import Packages\n",
    "\n",
    "We'll make use of the following packages:\n",
    "- `numpy` is a package for scientific computing in python.\n",
    "- `deque` will be our data structure for our memory buffer.\n",
    "- `namedtuple` will be used to store the experience tuples.\n",
    "- The `gym` toolkit is a collection of environments that can be used to test reinforcement learning algorithms. We should note that in this notebook we are using `gym` version `0.24.0`.\n",
    "- `PIL.Image` and `pyvirtualdisplay` are needed to render the Lunar Lander environment.\n",
    "- We will use several modules from the `tensorflow.keras` framework for building deep learning models.\n",
    "- `utils` is a module that contains helper functions for this assignment. You do not need to modify the code in this file.\n",
    "\n",
    "Run the cell below to import all the necessary packages."
   ]
  },
  {
   "cell_type": "code",
   "execution_count": 1,
   "id": "c15ff543-257a-43dc-900e-787504ae6118",
   "metadata": {},
   "outputs": [],
   "source": [
    "import time\n",
    "from collections import deque, namedtuple\n",
    "import random\n",
    "import base64\n",
    "import IPython\n",
    "\n",
    "import gym\n",
    "import numpy as np\n",
    "import PIL.Image\n",
    "import tensorflow as tf\n",
    "import pandas as pd\n",
    "import matplotlib.pyplot as plt\n",
    "import matplotlib.ticker as mticker\n",
    "import keras\n",
    "\n",
    "import imageio\n",
    "from pyvirtualdisplay import Display\n",
    "from tensorflow.keras import Sequential\n",
    "from tensorflow.keras.layers import Dense, Input\n",
    "from tensorflow.keras.losses import MSE\n",
    "from tensorflow.keras.optimizers import Adam"
   ]
  },
  {
   "cell_type": "markdown",
   "id": "88259501-3d0c-443a-a144-7dfb87cfa8a7",
   "metadata": {},
   "source": [
    "## 2 - Hyperparameters\n",
    "\n",
    "Run the cell below to set the hyperparameters."
   ]
  },
  {
   "cell_type": "code",
   "execution_count": 2,
   "id": "b2da528b-f1b7-4c45-9cf0-033d45beeb76",
   "metadata": {},
   "outputs": [],
   "source": [
    "MEMORY_SIZE = 100_000     # size of memory buffer\n",
    "MINIBATCH_SIZE = 64  # Mini-batch size.\n",
    "GAMMA = 0.995             # discount factor\n",
    "ALPHA = 1e-3              # learning rate  \n",
    "NUM_STEPS_FOR_UPDATE = 4  # perform a learning update every C time steps\n",
    "TAU= 1e-3                 # Soft update parameter\n",
    "E_DECAY = 0.995           # ε-decay rate for the ε-greedy policy.\n",
    "E_MIN = 0.01              # Minimum ε value for the ε-greedy policy."
   ]
  },
  {
   "cell_type": "markdown",
   "id": "f5427093-3a49-46e7-bbfb-bf9aff131fad",
   "metadata": {},
   "source": [
    "## 3 - The Lunar Lander Environment\n",
    "\n",
    "In this notebook we will be using [OpenAI's Gym Library](https://www.gymlibrary.dev/). The Gym library provides a wide variety of environments for reinforcement learning. To put it simply, an environment represents a problem or task to be solved. In this notebook, we will try to solve the Lunar Lander environment using reinforcement learning.\n",
    "\n",
    "The goal of the Lunar Lander environment is to land the lunar lander safely on the landing pad on the surface of the moon. The landing pad is designated by two flag poles and its center is at coordinates `(0,0)` but the lander is also allowed to land outside of the landing pad. The lander starts at the top center of the environment with a random initial force applied to its center of mass and has infinite fuel. The environment is considered solved if you get `200` points. "
   ]
  },
  {
   "cell_type": "code",
   "execution_count": 3,
   "id": "80f8325d-05e4-4298-b335-7bbcec086c52",
   "metadata": {},
   "outputs": [],
   "source": [
    "env = gym.make('LunarLander-v2')"
   ]
  },
  {
   "cell_type": "code",
   "execution_count": 4,
   "id": "ac3736a9-160b-49f1-9416-217a70062399",
   "metadata": {},
   "outputs": [
    {
     "data": {
      "image/jpeg": "[encoded data removed]",
      "image/png": "[encoded data removed]",
      "text/plain": [
       "<PIL.Image.Image image mode=RGB size=600x400>"
      ]
     },
     "execution_count": 4,
     "metadata": {},
     "output_type": "execute_result"
    }
   ],
   "source": [
    "env.reset()\n",
    "PIL.Image.fromarray(env.render(mode='rgb_array'))"
   ]
  },
  {
   "cell_type": "markdown",
   "id": "387887f6-d316-4ac0-a724-037f697e891a",
   "metadata": {},
   "source": [
    "In order to build our neural network later on we need to know the size of the state vector and the number of valid actions. We can get this information from our environment by using the `.observation_space.shape` and `action_space.n` methods, respectively."
   ]
  },
  {
   "cell_type": "code",
   "execution_count": 5,
   "id": "d5ccdc4e-069a-4a2e-9d42-c3066b2b3064",
   "metadata": {},
   "outputs": [
    {
     "name": "stdout",
     "output_type": "stream",
     "text": [
      "State Shape: (8,)\n",
      "Number of actions: 4\n"
     ]
    }
   ],
   "source": [
    "state_size = env.observation_space.shape\n",
    "num_actions = env.action_space.n\n",
    "\n",
    "print('State Shape:', state_size)\n",
    "print('Number of actions:', num_actions)"
   ]
  },
  {
   "cell_type": "markdown",
   "id": "1f387f90-9c46-4586-b7d3-d5d30be84495",
   "metadata": {},
   "source": [
    "Here we define the $Q$ and target $\\hat Q$ networks"
   ]
  },
  {
   "cell_type": "code",
   "execution_count": 6,
   "id": "d20f112d-a7d4-4d3f-a854-617ada9fee97",
   "metadata": {},
   "outputs": [],
   "source": [
    "# Create the Q-Network\n",
    "q_network = Sequential([\n",
    "    Input(shape=state_size),                      \n",
    "    Dense(units=64, activation='relu'),            \n",
    "    Dense(units=64, activation='relu'),            \n",
    "    Dense(units=num_actions, activation='linear'),\n",
    "    ])\n",
    "\n",
    "# Create the target Q^-Network\n",
    "target_q_network = Sequential([\n",
    "    Input(shape=state_size),                      \n",
    "    Dense(units=64, activation='relu'),            \n",
    "    Dense(units=64, activation='relu'),            \n",
    "    Dense(units=num_actions, activation='linear'), \n",
    "    ])\n",
    "\n",
    "optimizer = Adam(learning_rate=ALPHA)   "
   ]
  },
  {
   "cell_type": "markdown",
   "id": "43bf56db-db09-4d27-94ce-4f8480bca47c",
   "metadata": {},
   "source": [
    "# Experience Replay\n",
    "\n",
    "When an agent interacts with the environment, the states, actions, and rewards the agent experiences are sequential by nature. If the agent tries to learn from these consecutive experiences it can run into problems due to the strong correlations between them. To avoid this, we employ a technique known as **Experience Replay** to generate uncorrelated experiences for training our agent. Experience replay consists of storing the agent's experiences (i.e the states, actions, and rewards the agent receives) in a memory buffer and then sampling a random mini-batch of experiences from the buffer to do the learning. The experience tuples $(S_t, A_t, R_t, S_{t+1})$ will be added to the memory buffer at each time step as the agent interacts with the environment.\n",
    "\n",
    "For convenience, we will store the experiences as named tuples."
   ]
  },
  {
   "cell_type": "code",
   "execution_count": 7,
   "id": "9b3930cf-686c-4dcf-893d-0cb213b1e6bb",
   "metadata": {},
   "outputs": [],
   "source": [
    "experience = namedtuple(\"Experience\", field_names=[\"state\", \"action\", \"reward\", \"next_state\", \"done\"])"
   ]
  },
  {
   "cell_type": "code",
   "execution_count": 8,
   "id": "001b495c-f5f8-4b46-b775-aee6ce6ce76e",
   "metadata": {},
   "outputs": [],
   "source": [
    "def compute_loss(experiences, gamma, q_network, target_q_network):\n",
    "    \"\"\" \n",
    "    Calculates the loss.\n",
    "    \n",
    "    Args:\n",
    "      experiences: (tuple) tuple of [\"state\", \"action\", \"reward\", \"next_state\", \"done\"] namedtuples\n",
    "      gamma: (float) The discount factor.\n",
    "      q_network: (tf.keras.Sequential) Keras model for predicting the q_values\n",
    "      target_q_network: (tf.keras.Sequential) Keras model for predicting the targets\n",
    "          \n",
    "    Returns:\n",
    "      loss: (TensorFlow Tensor(shape=(0,), dtype=int32)) the Mean-Squared Error between\n",
    "            the y targets and the Q(s,a) values.\n",
    "    \"\"\"\n",
    "\n",
    "    # Unpack the mini-batch of experience tuples\n",
    "    states, actions, rewards, next_states, done_vals = experiences\n",
    "    \n",
    "    # Compute max Q^(s,a)\n",
    "    max_qsa = tf.reduce_max(target_q_network(next_states), axis=-1)\n",
    "    \n",
    "    # Set y = R if episode terminates, otherwise set y = R + γ max Q^(s,a).\n",
    "    y_targets = rewards+(1-done_vals)*max_qsa*gamma\n",
    "    \n",
    "    # Get the q_values and reshape to match y_targets\n",
    "    q_values = q_network(states)\n",
    "    q_values = tf.gather_nd(q_values, tf.stack([tf.range(q_values.shape[0]),\n",
    "                                                tf.cast(actions, tf.int32)], axis=1))\n",
    "        \n",
    "    # Compute the loss\n",
    "    loss = MSE(y_targets,q_values)    \n",
    "    return loss"
   ]
  },
  {
   "cell_type": "markdown",
   "id": "b80f8e05-3274-4c71-9d6e-e3e0577ed3bf",
   "metadata": {},
   "source": [
    "The `agent_learn` function will update the weights of the $Q$ and target $\\hat Q$ networks using a custom training loop."
   ]
  },
  {
   "cell_type": "code",
   "execution_count": 9,
   "id": "82141b30-64c9-455d-81a4-32f5aeed9f9c",
   "metadata": {},
   "outputs": [],
   "source": [
    "@tf.function\n",
    "def agent_learn(experiences, gamma):\n",
    "    \"\"\"\n",
    "    Updates the weights of the Q networks.\n",
    "    \n",
    "    Args:\n",
    "      experiences: (tuple) tuple of [\"state\", \"action\", \"reward\", \"next_state\", \"done\"] namedtuples\n",
    "      gamma: (float) The discount factor.\n",
    "    \n",
    "    \"\"\"\n",
    "    \n",
    "    # Calculate the loss\n",
    "    with tf.GradientTape() as tape:\n",
    "        loss = compute_loss(experiences, gamma, q_network, target_q_network)\n",
    "\n",
    "    # Get the gradients of the loss with respect to the weights.\n",
    "    gradients = tape.gradient(loss, q_network.trainable_variables)\n",
    "    \n",
    "    # Update the weights of the q_network.\n",
    "    optimizer.apply_gradients(zip(gradients, q_network.trainable_variables))\n",
    "    # update the weights of target q_network\n",
    "    for target_weights, q_net_weights in zip(\n",
    "        target_q_network.weights, q_network.weights\n",
    "    ):\n",
    "        target_weights.assign(TAU * q_net_weights + (1.0 - TAU) * target_weights)"
   ]
  },
  {
   "cell_type": "markdown",
   "id": "e00aacb7-6608-4214-a49e-670dd689fbd0",
   "metadata": {},
   "source": [
    "Experience Relay Implementation"
   ]
  },
  {
   "cell_type": "code",
   "execution_count": 10,
   "id": "f45eae33-4f6d-4b46-b42e-511caa7916b9",
   "metadata": {},
   "outputs": [],
   "source": [
    "def get_experiences(memory_buffer):\n",
    "    experiences = random.sample(memory_buffer, k=MINIBATCH_SIZE)\n",
    "    states = tf.convert_to_tensor(\n",
    "        np.array([e.state for e in experiences if e is not None]), dtype=tf.float32\n",
    "    )\n",
    "    actions = tf.convert_to_tensor(\n",
    "        np.array([e.action for e in experiences if e is not None]), dtype=tf.float32\n",
    "    )\n",
    "    rewards = tf.convert_to_tensor(\n",
    "        np.array([e.reward for e in experiences if e is not None]), dtype=tf.float32\n",
    "    )\n",
    "    next_states = tf.convert_to_tensor(\n",
    "        np.array([e.next_state for e in experiences if e is not None]), dtype=tf.float32\n",
    "    )\n",
    "    done_vals = tf.convert_to_tensor(\n",
    "        np.array([e.done for e in experiences if e is not None]).astype(np.uint8),\n",
    "        dtype=tf.float32,\n",
    "    )\n",
    "    return (states, actions, rewards, next_states, done_vals)"
   ]
  },
  {
   "cell_type": "markdown",
   "id": "c0c157d1-a612-48a5-9337-afe8fe3bb7b1",
   "metadata": {},
   "source": [
    "The agent observes the current `state` and chooses an `action` using an $\\epsilon$-greedy policy. Our agent starts out using a value of $\\epsilon =$ `epsilon = 1` which yields an $\\epsilon$-greedy policy that is equivalent to the equiprobable random policy. This means that at the beginning of our training, the agent is just going to take random actions regardless of the observed `state`. As training progresses we will decrease the value of $\\epsilon$ slowly towards a minimum value using a given $\\epsilon$-decay rate. We want this minimum value to be close to zero because a value of $\\epsilon = 0$ will yield an $\\epsilon$-greedy policy that is equivalent to the greedy policy. This means that towards the end of training, the agent will lean towards selecting the `action` that it believes (based on its past experiences) will maximize $Q(s,a)$. We will set the minimum $\\epsilon$ value to be `0.01` and not exactly 0 because we always want to keep a little bit of exploration during training."
   ]
  },
  {
   "cell_type": "code",
   "execution_count": 11,
   "id": "3e9ed1cd-ce4b-4d9d-a191-2898cb1a8d47",
   "metadata": {},
   "outputs": [],
   "source": [
    "def get_action(q_values, epsilon=0.0):\n",
    "    if random.random() > epsilon:\n",
    "        return np.argmax(q_values.numpy()[0])\n",
    "    else:\n",
    "        return random.choice(np.arange(4))"
   ]
  },
  {
   "cell_type": "code",
   "execution_count": 12,
   "id": "d9fcd989-1835-43ed-8adb-1ed1291b70b8",
   "metadata": {},
   "outputs": [
    {
     "name": "stdout",
     "output_type": "stream",
     "text": [
      "Episode 100 | Total point average of the last 100 episodes: -179.92\n",
      "Episode 200 | Total point average of the last 100 episodes: -135.53\n",
      "Episode 300 | Total point average of the last 100 episodes: -61.282\n",
      "Episode 400 | Total point average of the last 100 episodes: 13.127\n",
      "Episode 500 | Total point average of the last 100 episodes: 161.39\n",
      "Episode 600 | Total point average of the last 100 episodes: 182.29\n",
      "Episode 700 | Total point average of the last 100 episodes: 196.63\n",
      "Episode 716 | Total point average of the last 100 episodes: 202.18\n",
      "\n",
      "Environment solved in 716 episodes!\n",
      "WARNING:tensorflow:Compiled the loaded model, but the compiled metrics have yet to be built. `model.compile_metrics` will be empty until you train or evaluate the model.\n",
      "\n",
      "Total Runtime: 1108.65 s (18.48 min)\n"
     ]
    }
   ],
   "source": [
    "start = time.time()\n",
    "\n",
    "num_episodes = 2000\n",
    "max_num_timesteps = 1000\n",
    "\n",
    "total_point_history = []\n",
    "\n",
    "num_p_av = 100    # number of total points to use for averaging\n",
    "epsilon = 1.0     # initial ε value for ε-greedy policy\n",
    "\n",
    "# Create a memory buffer D with capacity N\n",
    "memory_buffer = deque(maxlen=MEMORY_SIZE)\n",
    "\n",
    "# Set the target network weights equal to the Q-Network weights\n",
    "target_q_network.set_weights(q_network.get_weights())\n",
    "\n",
    "for i in range(num_episodes):\n",
    "    \n",
    "    # Reset the environment to the initial state and get the initial state\n",
    "    state = env.reset()\n",
    "    total_points = 0\n",
    "    \n",
    "    for t in range(max_num_timesteps):\n",
    "        \n",
    "        # From the current state S choose an action A using an ε-greedy policy\n",
    "        state_qn = np.expand_dims(state, axis=0)  # state needs to be the right shape for the q_network\n",
    "        q_values = q_network(state_qn)\n",
    "        action = get_action(q_values, epsilon)\n",
    "        \n",
    "        # Take action A and receive reward R and the next state S'\n",
    "        next_state, reward, done, _ = env.step(action)\n",
    "        \n",
    "        # Store experience tuple (S,A,R,S') in the memory buffer.\n",
    "        # We store the done variable as well for convenience.\n",
    "        memory_buffer.append(experience(state, action, reward, next_state, done))\n",
    "        \n",
    "        # Only update the network every NUM_STEPS_FOR_UPDATE time steps.\n",
    "        if (t + 1) % NUM_STEPS_FOR_UPDATE == 0 and len(memory_buffer) > MINIBATCH_SIZE:\n",
    "            # Sample random mini-batch of experience tuples (S,A,R,S') from D\n",
    "            experiences = get_experiences(memory_buffer)\n",
    "            \n",
    "            # Set the y targets, perform a gradient descent step,\n",
    "            # and update the network weights.\n",
    "            agent_learn(experiences, GAMMA)\n",
    "        \n",
    "        state = next_state.copy()\n",
    "        total_points += reward\n",
    "        \n",
    "        if done:\n",
    "            break\n",
    "            \n",
    "    total_point_history.append(total_points)\n",
    "    av_latest_points = np.mean(total_point_history[-num_p_av:])\n",
    "    \n",
    "    # Update the ε value\n",
    "    epsilon = max(E_MIN, E_DECAY * epsilon)\n",
    "\n",
    "    print(f\"\\rEpisode {i+1} | Total point average of the last {num_p_av} episodes: {av_latest_points:.2f}\", end=\"\")\n",
    "\n",
    "    if (i+1) % num_p_av == 0:\n",
    "        print(f\"\\rEpisode {i+1} | Total point average of the last {num_p_av} episodes: {av_latest_points:.2f}\")\n",
    "\n",
    "    # We will consider that the environment is solved if we get an\n",
    "    # average of 200 points in the last 100 episodes.\n",
    "    if av_latest_points >= 200.0:\n",
    "        print(f\"\\n\\nEnvironment solved in {i+1} episodes!\")\n",
    "        q_network.save('lunar_lander_model.h5')\n",
    "        break\n",
    "        \n",
    "tot_time = time.time() - start\n",
    "\n",
    "print(f\"\\nTotal Runtime: {tot_time:.2f} s ({(tot_time/60):.2f} min)\")"
   ]
  },
  {
   "cell_type": "markdown",
   "id": "15566ff4-0ca4-442b-a32e-08a71afe6045",
   "metadata": {},
   "source": [
    "We can plot the total point history along with the moving average to see how our agent improved during training. If you want to know about the different plotting options available in the `utils.plot_history` function we encourage you to take a look at the `utils` module."
   ]
  },
  {
   "cell_type": "code",
   "execution_count": 13,
   "id": "799c1a98-c446-4031-b101-801a5320dfc8",
   "metadata": {},
   "outputs": [
    {
     "name": "stdout",
     "output_type": "stream",
     "text": [
      "WARNING:tensorflow:No training configuration found in the save file, so the model was *not* compiled. Compile it manually.\n"
     ]
    }
   ],
   "source": [
    "q_network=keras.models.load_model('lunar_lander_model.h5')"
   ]
  },
  {
   "cell_type": "markdown",
   "id": "d196c889-164e-4931-9a51-cdff15f42d9f",
   "metadata": {},
   "source": [
    "Graph showing the improvement of the Q network"
   ]
  },
  {
   "cell_type": "code",
   "execution_count": null,
   "id": "151202cf-e795-4ef7-8582-af0e46c3013f",
   "metadata": {},
   "outputs": [],
   "source": [
    "# Generate x-axis for plotting.\n",
    "episode_num = [x for x in range(0, len(total_point_history))]\n",
    "window_size = (len(total_point_history) * 10) // 100\n",
    "# Use Pandas to calculate the rolling mean (moving average).\n",
    "rolling_mean = pd.DataFrame(total_point_history).rolling(window_size).mean()\n",
    "\n",
    "plt.figure(figsize=(10, 7), facecolor=\"white\")\n",
    "plt.plot(episode_num, total_point_history, linewidth=1, color=\"cyan\")\n",
    "plt.plot(episode_num, rolling_mean, linewidth=2, color=\"magenta\")\n",
    "\n",
    "text_color = \"black\"\n",
    "\n",
    "ax = plt.gca()\n",
    "ax.set_facecolor(\"black\")\n",
    "plt.grid()\n",
    "plt.xlabel(\"Episode\", color=text_color, fontsize=30)\n",
    "plt.ylabel(\"Total Points\", color=text_color, fontsize=30)\n",
    "yNumFmt = mticker.StrMethodFormatter(\"{x:,}\")\n",
    "ax.yaxis.set_major_formatter(yNumFmt)\n",
    "ax.tick_params(axis=\"x\", colors=text_color)\n",
    "ax.tick_params(axis=\"y\", colors=text_color)\n",
    "plt.show()\n"
   ]
  },
  {
   "cell_type": "markdown",
   "id": "90674fae-21ea-4b49-94d2-e99b43dbab85",
   "metadata": {},
   "source": [
    "Code to show the Q network in action in video format"
   ]
  },
  {
   "cell_type": "code",
   "execution_count": null,
   "id": "acec0d5d-86eb-4fcf-b779-0dd3e32b5d64",
   "metadata": {},
   "outputs": [],
   "source": [
    "filename = \"./videos/lunar_lander.mp4\"\n",
    "with imageio.get_writer(filename, fps=30) as video:\n",
    "    done = False\n",
    "    state = env.reset()\n",
    "    frame = env.render(mode=\"rgb_array\")\n",
    "    video.append_data(frame)\n",
    "    while not done:\n",
    "        state = np.expand_dims(state, axis=0)\n",
    "        q_values = q_network(state)\n",
    "        action = np.argmax(q_values.numpy()[0])\n",
    "        state, _, done, _ = env.step(action)\n",
    "        frame = env.render(mode=\"rgb_array\")\n",
    "        video.append_data(frame)"
   ]
  },
  {
   "cell_type": "code",
   "execution_count": null,
   "id": "9ed8c837-355a-4e68-8ccf-88a38511f686",
   "metadata": {},
   "outputs": [],
   "source": [
    "video = open(filename, \"rb\").read()\n",
    "b64 = base64.b64encode(video)\n",
    "tag = \"\"\"\n",
    "<video width=\"840\" height=\"480\" controls>\n",
    "<source src=\"data:video/mp4;base64,{0}\" type=\"video/mp4\">\n",
    "Your browser does not support the video tag.\n",
    "</video>\"\"\".format(\n",
    "    b64.decode()\n",
    ")\n",
    "IPython.display.HTML(tag)"
   ]
  },
  {
   "cell_type": "code",
   "execution_count": null,
   "id": "34b82be9-21f0-4717-8bbb-9cd254d44d77",
   "metadata": {},
   "outputs": [],
   "source": []
  }
 ],
 "metadata": {
  "kernelspec": {
   "display_name": "Python 3 (ipykernel)",
   "language": "python",
   "name": "python3"
  },
  "language_info": {
   "codemirror_mode": {
    "name": "ipython",
    "version": 3
   },
   "file_extension": ".py",
   "mimetype": "text/x-python",
   "name": "python",
   "nbconvert_exporter": "python",
   "pygments_lexer": "ipython3",
   "version": "3.10.13"
  }
 },
 "nbformat": 4,
 "nbformat_minor": 5
}
